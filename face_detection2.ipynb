{
 "cells": [
  {
   "cell_type": "markdown",
   "id": "c0a569f2",
   "metadata": {},
   "source": [
    "### CS 697\n",
    "### Real vs Fake Face Detection Group Project\n",
    "### ZIRADDIN KAZIMLI & MOHIT"
   ]
  },
  {
   "cell_type": "code",
   "execution_count": 1,
   "id": "44ff3a1d",
   "metadata": {},
   "outputs": [],
   "source": [
    "import tensorflow as tf\n",
    "import cv2\n",
    "from cv2 import imread, imshow\n",
    "import os  # accessing directory structure\n",
    "import numpy as np\n",
    "from tensorflow import keras\n",
    "\n",
    "from tensorflow.keras.models import Sequential\n",
    "from tensorflow.keras.layers import Conv2D, MaxPooling2D, Flatten, Dense, Dropout\n",
    "from tensorflow.keras.applications import VGG16\n",
    "from sklearn.model_selection import train_test_split\n",
    "from sklearn.model_selection import cross_val_score\n",
    "from sklearn.model_selection import KFold\n",
    "from sklearn.utils import shuffle \n",
    "\n",
    "from tkinter import Tk\n",
    "from tkinter.filedialog import askopenfilename # Interactive mode"
   ]
  },
  {
   "cell_type": "code",
   "execution_count": 2,
   "id": "a4aa09fe",
   "metadata": {},
   "outputs": [],
   "source": [
    "# Define paths to your dataset folders\n",
    "real_folder = '/Users/ziko/Desktop/CSFall23/CS697/project/training_real'\n",
    "fake_folder = '/Users/ziko/Desktop/CSFall23/CS697/project/training_fake'"
   ]
  },
  {
   "cell_type": "code",
   "execution_count": null,
   "id": "04acef32",
   "metadata": {},
   "outputs": [],
   "source": [
    "# Lists to store image paths and labels\n",
    "image_paths = []\n",
    "labels = []"
   ]
  },
  {
   "cell_type": "code",
   "execution_count": 4,
   "id": "b160d96f",
   "metadata": {},
   "outputs": [],
   "source": [
    "# Load real images\n",
    "real_images = [os.path.join(real_folder, filename) for filename in os.listdir(real_folder)]\n",
    "image_paths.extend(real_images)\n",
    "labels.extend([1] * len(real_images))  # 1 for real\n",
    "\n",
    "# Load fake images\n",
    "fake_images = [os.path.join(fake_folder, filename) for filename in os.listdir(fake_folder)]\n",
    "image_paths.extend(fake_images)\n",
    "labels.extend([0] * len(fake_images))  # 0 for fake"
   ]
  },
  {
   "cell_type": "code",
   "execution_count": 5,
   "id": "04bd8829",
   "metadata": {},
   "outputs": [],
   "source": [
    "# Convert the lists to NumPy arrays\n",
    "image_paths = np.array(image_paths)\n",
    "labels = np.array(labels)"
   ]
  },
  {
   "cell_type": "markdown",
   "id": "d72384e1",
   "metadata": {},
   "source": [
    "#### Converting the lists to NumPy arrays can be beneficial for several reasons:\n",
    "\n",
    "#### Efficiency: \n",
    "NumPy arrays are more memory-efficient and faster for numerical operations compared to Python lists. This is especially important when you're working with large datasets and performing operations on the data.\n",
    "\n",
    "#### Uniform Data Structure: \n",
    "NumPy arrays provide a uniform data structure, which can simplify many aspects of data manipulation and analysis. It ensures that all elements have the same data type, which can help prevent unexpected data type-related errors.\n",
    "\n",
    "#### Compatibility with Machine Learning Libraries: \n",
    "Many machine learning libraries, including TensorFlow and PyTorch, expect input data in the form of NumPy arrays. Converting our data to NumPy arrays makes it easier to work with these libraries."
   ]
  },
  {
   "cell_type": "code",
   "execution_count": 6,
   "id": "13866df2",
   "metadata": {},
   "outputs": [],
   "source": [
    "# Split the dataset into training and test sets\n",
    "X_train, X_test, y_train, y_test = train_test_split(image_paths, labels, test_size=0.2, random_state=42)\n"
   ]
  },
  {
   "cell_type": "code",
   "execution_count": 7,
   "id": "6cedf659",
   "metadata": {},
   "outputs": [],
   "source": [
    "# Define a function to load and preprocess an image\n",
    "def load_and_preprocess_image(image_path, target_size):\n",
    "    image = cv2.imread(image_path)\n",
    "    image = cv2.cvtColor(image, cv2.COLOR_BGR2RGB) # Convert image to RGB\n",
    "    image = cv2.resize(image, target_size)\n",
    "    image = image/255.0 # Normalize pixel values\n",
    "    return image"
   ]
  },
  {
   "cell_type": "code",
   "execution_count": 8,
   "id": "307b1c46",
   "metadata": {},
   "outputs": [],
   "source": [
    "# Define the target size for your images (e.g., (224, 224) for a 224x224 size)\n",
    "target_size = (224, 224)"
   ]
  },
  {
   "cell_type": "code",
   "execution_count": 9,
   "id": "74cd4b74",
   "metadata": {},
   "outputs": [
    {
     "name": "stdout",
     "output_type": "stream",
     "text": [
      "Model: \"sequential\"\n",
      "_________________________________________________________________\n",
      " Layer (type)                Output Shape              Param #   \n",
      "=================================================================\n",
      " conv2d (Conv2D)             (None, 222, 222, 32)      896       \n",
      "                                                                 \n",
      " max_pooling2d (MaxPooling2  (None, 111, 111, 32)      0         \n",
      " D)                                                              \n",
      "                                                                 \n",
      " conv2d_1 (Conv2D)           (None, 109, 109, 64)      18496     \n",
      "                                                                 \n",
      " max_pooling2d_1 (MaxPoolin  (None, 54, 54, 64)        0         \n",
      " g2D)                                                            \n",
      "                                                                 \n",
      " conv2d_2 (Conv2D)           (None, 52, 52, 128)       73856     \n",
      "                                                                 \n",
      " max_pooling2d_2 (MaxPoolin  (None, 26, 26, 128)       0         \n",
      " g2D)                                                            \n",
      "                                                                 \n",
      " flatten (Flatten)           (None, 86528)             0         \n",
      "                                                                 \n",
      " dense (Dense)               (None, 128)               11075712  \n",
      "                                                                 \n",
      " dropout (Dropout)           (None, 128)               0         \n",
      "                                                                 \n",
      " dense_1 (Dense)             (None, 1)                 129       \n",
      "                                                                 \n",
      "=================================================================\n",
      "Total params: 11169089 (42.61 MB)\n",
      "Trainable params: 11169089 (42.61 MB)\n",
      "Non-trainable params: 0 (0.00 Byte)\n",
      "_________________________________________________________________\n"
     ]
    }
   ],
   "source": [
    "# Define your CNN model\n",
    "model = Sequential()\n",
    "model.add(Conv2D(32, (3, 3), activation='relu', input_shape=(224, 224, 3)))\n",
    "model.add(MaxPooling2D((2, 2)))\n",
    "model.add(Conv2D(64, (3, 3), activation='relu'))\n",
    "model.add(MaxPooling2D((2, 2)))\n",
    "model.add(Conv2D(128, (3, 3), activation='relu'))\n",
    "model.add(MaxPooling2D((2, 2)))\n",
    "model.add(Flatten())\n",
    "model.add(Dense(128, activation='relu'))\n",
    "model.add(Dropout(0.5))\n",
    "model.add(Dense(1, activation='sigmoid'))\n",
    "\n",
    "# Compile the model\n",
    "model.compile(optimizer='adam', loss='binary_crossentropy', metrics=['accuracy'])\n",
    "\n",
    "# Print the model summary\n",
    "model.summary()"
   ]
  },
  {
   "cell_type": "code",
   "execution_count": 10,
   "id": "3b48a3e1",
   "metadata": {},
   "outputs": [],
   "source": [
    "def classify_and_display_new_image(image_path):\n",
    "    while True:\n",
    "        # Load and preprocess the new image\n",
    "        new_image = load_and_preprocess_image(image_path, target_size)\n",
    "\n",
    "        # Make predictions\n",
    "        prediction = model.predict(np.expand_dims(new_image, axis=0))\n",
    "\n",
    "        # Determine the result\n",
    "        if prediction > 0.5:\n",
    "            result = \"Real\"\n",
    "        else:\n",
    "            result = \"Fake\"\n",
    "\n",
    "        # Display the image and prediction\n",
    "        image = cv2.imread(image_path)\n",
    "        cv2.putText(image, f\"Prediction: {result}\", (10, 30), cv2.FONT_HERSHEY_SIMPLEX, 1, (0, 255, 0), 2)\n",
    "\n",
    "        # Create a pop-up window to display the image\n",
    "        cv2.imshow(\"Real vs. Fake Image Detection\", image)\n",
    "        \n",
    "        # Wait for a key event\n",
    "        key = cv2.waitKey(0)\n",
    "\n",
    "        # Check if the key is the ESC key (27)\n",
    "        if key == 27:\n",
    "            cv2.destroyAllWindows()\n",
    "            break  # Exit the loop if ESC key is pressed\n",
    "        elif key == ord('n'):\n",
    "            # Let the user choose another image\n",
    "            new_image_path = askopenfilename(title=\"Select another Image\")\n",
    "            if not new_image_path:\n",
    "                break  # Exit the loop if the user cancels the selection\n",
    "            image_path = new_image_path"
   ]
  },
  {
   "cell_type": "code",
   "execution_count": 11,
   "id": "761f97ed",
   "metadata": {},
   "outputs": [
    {
     "name": "stdout",
     "output_type": "stream",
     "text": [
      "1/1 [==============================] - 0s 74ms/step\n",
      "1/1 [==============================] - 0s 19ms/step\n",
      "1/1 [==============================] - 0s 21ms/step\n",
      "1/1 [==============================] - 0s 19ms/step\n",
      "1/1 [==============================] - 0s 20ms/step\n",
      "1/1 [==============================] - 0s 20ms/step\n",
      "1/1 [==============================] - 0s 20ms/step\n",
      "1/1 [==============================] - 0s 19ms/step\n",
      "1/1 [==============================] - 0s 21ms/step\n"
     ]
    },
    {
     "ename": "error",
     "evalue": "OpenCV(4.5.5) /Users/xperience/actions-runner/_work/opencv-python/opencv-python/opencv/modules/imgproc/src/color.cpp:182: error: (-215:Assertion failed) !_src.empty() in function 'cvtColor'\n",
     "output_type": "error",
     "traceback": [
      "\u001b[0;31m---------------------------------------------------------------------------\u001b[0m",
      "\u001b[0;31merror\u001b[0m                                     Traceback (most recent call last)",
      "Cell \u001b[0;32mIn[11], line 7\u001b[0m\n\u001b[1;32m      4\u001b[0m image_path \u001b[38;5;241m=\u001b[39m askopenfilename(title\u001b[38;5;241m=\u001b[39m\u001b[38;5;124m\"\u001b[39m\u001b[38;5;124mSelect an Image\u001b[39m\u001b[38;5;124m\"\u001b[39m)\n\u001b[1;32m      6\u001b[0m \u001b[38;5;66;03m# Classify and display the chosen image\u001b[39;00m\n\u001b[0;32m----> 7\u001b[0m classify_and_display_new_image(image_path)\n",
      "Cell \u001b[0;32mIn[10], line 4\u001b[0m, in \u001b[0;36mclassify_and_display_new_image\u001b[0;34m(image_path)\u001b[0m\n\u001b[1;32m      1\u001b[0m \u001b[38;5;28;01mdef\u001b[39;00m \u001b[38;5;21mclassify_and_display_new_image\u001b[39m(image_path):\n\u001b[1;32m      2\u001b[0m     \u001b[38;5;28;01mwhile\u001b[39;00m \u001b[38;5;28;01mTrue\u001b[39;00m:\n\u001b[1;32m      3\u001b[0m         \u001b[38;5;66;03m# Load and preprocess the new image\u001b[39;00m\n\u001b[0;32m----> 4\u001b[0m         new_image \u001b[38;5;241m=\u001b[39m load_and_preprocess_image(image_path, target_size)\n\u001b[1;32m      6\u001b[0m         \u001b[38;5;66;03m# Make predictions\u001b[39;00m\n\u001b[1;32m      7\u001b[0m         prediction \u001b[38;5;241m=\u001b[39m model\u001b[38;5;241m.\u001b[39mpredict(np\u001b[38;5;241m.\u001b[39mexpand_dims(new_image, axis\u001b[38;5;241m=\u001b[39m\u001b[38;5;241m0\u001b[39m))\n",
      "Cell \u001b[0;32mIn[7], line 4\u001b[0m, in \u001b[0;36mload_and_preprocess_image\u001b[0;34m(image_path, target_size)\u001b[0m\n\u001b[1;32m      2\u001b[0m \u001b[38;5;28;01mdef\u001b[39;00m \u001b[38;5;21mload_and_preprocess_image\u001b[39m(image_path, target_size):\n\u001b[1;32m      3\u001b[0m     image \u001b[38;5;241m=\u001b[39m cv2\u001b[38;5;241m.\u001b[39mimread(image_path)\n\u001b[0;32m----> 4\u001b[0m     image \u001b[38;5;241m=\u001b[39m cv2\u001b[38;5;241m.\u001b[39mcvtColor(image, cv2\u001b[38;5;241m.\u001b[39mCOLOR_BGR2RGB) \u001b[38;5;66;03m# Convert image to RGB\u001b[39;00m\n\u001b[1;32m      5\u001b[0m     image \u001b[38;5;241m=\u001b[39m cv2\u001b[38;5;241m.\u001b[39mresize(image, target_size)\n\u001b[1;32m      6\u001b[0m     image \u001b[38;5;241m=\u001b[39m image\u001b[38;5;241m/\u001b[39m\u001b[38;5;241m255.0\u001b[39m \u001b[38;5;66;03m# Normalize pixel values\u001b[39;00m\n",
      "\u001b[0;31merror\u001b[0m: OpenCV(4.5.5) /Users/xperience/actions-runner/_work/opencv-python/opencv-python/opencv/modules/imgproc/src/color.cpp:182: error: (-215:Assertion failed) !_src.empty() in function 'cvtColor'\n"
     ]
    }
   ],
   "source": [
    "# Interactive mode: Let the user choose an image to classify\n",
    "root = Tk()\n",
    "root.withdraw()\n",
    "image_path = askopenfilename(title=\"Select an Image\")\n",
    "\n",
    "# Classify and display the chosen image\n",
    "classify_and_display_new_image(image_path)"
   ]
  },
  {
   "cell_type": "markdown",
   "id": "17eb4e9a",
   "metadata": {},
   "source": [
    "### SUMMARY"
   ]
  },
  {
   "cell_type": "markdown",
   "id": "7fcfd51a",
   "metadata": {},
   "source": [
    "#### Data Loading:\n",
    "The code loads real and fake images from specified folders.\n",
    "It creates lists (image_paths and labels) to store image paths and corresponding labels (1 for real, 0 for fake).\n",
    "The data is then split into training and test sets.\n",
    "\n",
    "#### Image Preprocessing:\n",
    "There's a function (load_and_preprocess_image) to read, convert to RGB, resize, and normalize pixel values of an image.\n",
    "\n",
    "#### Convolutional Neural Network (CNN) Model:\n",
    "A simple CNN model is defined using the Sequential API from TensorFlow's Keras.\n",
    "The model has convolutional layers with max pooling, followed by flattening, dense layers, and a final output layer with sigmoid activation for binary classification.\n",
    "\n",
    "#### Model Compilation:\n",
    "The model is compiled using the Adam optimizer and binary cross-entropy loss.\n",
    "\n",
    "#### Prediction and Display:\n",
    "There's a function (classify_and_display_new_image) to classify and display a chosen image using the trained model. It uses OpenCV to show the image with a prediction label.\n",
    "The user can press the 'n' key to select another image or the ESC key to exit."
   ]
  },
  {
   "cell_type": "code",
   "execution_count": null,
   "id": "c8ee75ac",
   "metadata": {},
   "outputs": [],
   "source": []
  }
 ],
 "metadata": {
  "kernelspec": {
   "display_name": "Python 3 (ipykernel)",
   "language": "python",
   "name": "python3"
  },
  "language_info": {
   "codemirror_mode": {
    "name": "ipython",
    "version": 3
   },
   "file_extension": ".py",
   "mimetype": "text/x-python",
   "name": "python",
   "nbconvert_exporter": "python",
   "pygments_lexer": "ipython3",
   "version": "3.11.5"
  }
 },
 "nbformat": 4,
 "nbformat_minor": 5
}
